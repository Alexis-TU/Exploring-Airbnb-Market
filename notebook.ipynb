{
 "cells": [
  {
   "cell_type": "markdown",
   "id": "c747d469-ee97-4b95-880f-feefd5456042",
   "metadata": {
    "id": "bA5ajAmk7XH6"
   },
   "source": [
    "![NYC Skyline](nyc.jpg)\n",
    "\n",
    "Welcome to New York City, one of the most-visited cities in the world. There are many Airbnb listings in New York City to meet the high demand for temporary lodging for travelers, which can be anywhere between a few nights to many months. In this project, we will take a closer look at the New York Airbnb market by combining data from multiple file types like `.csv`, `.tsv`, and `.xlsx`.\n",
    "\n",
    "Recall that **CSV**, **TSV**, and **Excel** files are three common formats for storing data. \n",
    "Three files containing data on 2019 Airbnb listings are available to you:\n",
    "\n",
    "**data/airbnb_price.csv**\n",
    "This is a CSV file containing data on Airbnb listing prices and locations.\n",
    "- **`listing_id`**: unique identifier of listing\n",
    "- **`price`**: nightly listing price in USD\n",
    "- **`nbhood_full`**: name of borough and neighborhood where listing is located\n",
    "\n",
    "**data/airbnb_room_type.xlsx**\n",
    "This is an Excel file containing data on Airbnb listing descriptions and room types.\n",
    "- **`listing_id`**: unique identifier of listing\n",
    "- **`description`**: listing description\n",
    "- **`room_type`**: Airbnb has three types of rooms: shared rooms, private rooms, and entire homes/apartments\n",
    "\n",
    "**data/airbnb_last_review.tsv**\n",
    "This is a TSV file containing data on Airbnb host names and review dates.\n",
    "- **`listing_id`**: unique identifier of listing\n",
    "- **`host_name`**: name of listing host\n",
    "- **`last_review`**: date when the listing was last reviewed"
   ]
  },
  {
   "cell_type": "code",
   "execution_count": 10,
   "id": "1fdc5784-479e-46cb-b05b-68439dcc94a7",
   "metadata": {
    "executionCancelledAt": null,
    "executionTime": 1460,
    "lastExecutedAt": 1730772459440,
    "lastExecutedByKernel": "8ed9ea03-7f08-4c88-8c90-9fd804dccac5",
    "lastScheduledRunId": null,
    "lastSuccessfullyExecutedCode": "# Import necessary packages\nimport pandas as pd\nimport numpy as np\n\n# Import CSV for prices\nairbnb_price = pd.read_csv('data/airbnb_price.csv')\n\n# Import Excel file for room types\nairbnb_room_type = pd.read_excel('data/airbnb_room_type.xlsx')\n\n# Import TSV for review dates\nairbnb_last_review = pd.read_csv('data/airbnb_last_review.tsv', sep='\\t')\n\n# Join the three data frames together into one\nlistings = pd.merge(airbnb_price, airbnb_room_type, on='listing_id')\nlistings = pd.merge(listings, airbnb_last_review, on='listing_id')\n\n# What are the dates of the earliest and most recent reviews?\nlistings['last_review_date'] = pd.to_datetime(listings['last_review'], format='%B %d %Y')\nfirst_reviewed = listings['last_review_date'].min()\nlast_reviewed = listings['last_review_date'].max()\n\n# How many of the listings are private rooms?\nlistings['room_type'] = listings['room_type'].str.lower()\nprivate_room_count = listings[listings['room_type'] == 'private room'].shape[0]\n\n# What is the average listing price?\nlistings['price_clean'] = listings['price'].str.replace(' dollars', '').astype(float)\navg_price = listings['price_clean'].mean()\n\n# Create a DataFrame for review dates\nreview_dates = pd.DataFrame({\n    'first_reviewed': [first_reviewed],\n    'last_reviewed': [last_reviewed],\n    'nb_private_rooms': [private_room_count],\n    'avg_price': [round(avg_price, 2)]\n})\n\n# Display the results\nprint(\"First reviewed date:\", first_reviewed)\nprint(\"Last reviewed date:\", last_reviewed)\nprint(\"Number of private rooms:\", private_room_count)\nprint(\"Average listing price:\", avg_price)\nprint(\"Review dates DataFrame:\")\nprint(review_dates)"
   },
   "outputs": [
    {
     "name": "stdout",
     "output_type": "stream",
     "text": [
      "First reviewed date: 2019-01-01 00:00:00\n",
      "Last reviewed date: 2019-07-09 00:00:00\n",
      "Number of private rooms: 11356\n",
      "Average listing price: 141.7779364512674\n",
      "Review dates DataFrame:\n",
      "  first_reviewed last_reviewed  nb_private_rooms  avg_price\n",
      "0     2019-01-01    2019-07-09             11356     141.78\n"
     ]
    }
   ],
   "source": [
    "# Import necessary packages\n",
    "import pandas as pd\n",
    "import numpy as np\n",
    "\n",
    "# Import CSV for prices\n",
    "airbnb_price = pd.read_csv('data/airbnb_price.csv')\n",
    "\n",
    "# Import Excel file for room types\n",
    "airbnb_room_type = pd.read_excel('data/airbnb_room_type.xlsx')\n",
    "\n",
    "# Import TSV for review dates\n",
    "airbnb_last_review = pd.read_csv('data/airbnb_last_review.tsv', sep='\\t')\n",
    "\n",
    "# Join the three data frames together into one\n",
    "listings = pd.merge(airbnb_price, airbnb_room_type, on='listing_id')\n",
    "listings = pd.merge(listings, airbnb_last_review, on='listing_id')\n",
    "\n",
    "# What are the dates of the earliest and most recent reviews?\n",
    "listings['last_review_date'] = pd.to_datetime(listings['last_review'], format='%B %d %Y')\n",
    "first_reviewed = listings['last_review_date'].min()\n",
    "last_reviewed = listings['last_review_date'].max()\n",
    "\n",
    "# How many of the listings are private rooms?\n",
    "listings['room_type'] = listings['room_type'].str.lower()\n",
    "private_room_count = listings[listings['room_type'] == 'private room'].shape[0]\n",
    "\n",
    "# What is the average listing price?\n",
    "listings['price_clean'] = listings['price'].str.replace(' dollars', '').astype(float)\n",
    "avg_price = listings['price_clean'].mean()\n",
    "\n",
    "# Create a DataFrame for review dates\n",
    "review_dates = pd.DataFrame({\n",
    "    'first_reviewed': [first_reviewed],\n",
    "    'last_reviewed': [last_reviewed],\n",
    "    'nb_private_rooms': [private_room_count],\n",
    "    'avg_price': [round(avg_price, 2)]\n",
    "})\n",
    "\n",
    "# Display the results\n",
    "print(\"First reviewed date:\", first_reviewed)\n",
    "print(\"Last reviewed date:\", last_reviewed)\n",
    "print(\"Number of private rooms:\", private_room_count)\n",
    "print(\"Average listing price:\", avg_price)\n",
    "print(\"Review dates DataFrame:\")\n",
    "print(review_dates)"
   ]
  }
 ],
 "metadata": {
  "colab": {
   "name": "Welcome to DataCamp Workspaces.ipynb",
   "provenance": []
  },
  "editor": "DataLab",
  "kernelspec": {
   "display_name": "Python 3 (ipykernel)",
   "language": "python",
   "name": "python3"
  },
  "language_info": {
   "codemirror_mode": {
    "name": "ipython",
    "version": 3
   },
   "file_extension": ".py",
   "mimetype": "text/x-python",
   "name": "python",
   "nbconvert_exporter": "python",
   "pygments_lexer": "ipython3",
   "version": "3.8.20"
  }
 },
 "nbformat": 4,
 "nbformat_minor": 5
}
